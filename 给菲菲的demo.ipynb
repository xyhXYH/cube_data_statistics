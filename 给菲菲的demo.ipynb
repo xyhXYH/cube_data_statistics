{
 "cells": [
  {
   "cell_type": "code",
   "execution_count": 1,
   "metadata": {},
   "outputs": [],
   "source": [
    "import pandas as pd"
   ]
  },
  {
   "cell_type": "code",
   "execution_count": 28,
   "metadata": {},
   "outputs": [],
   "source": [
    "popularity = 1000000"
   ]
  },
  {
   "cell_type": "code",
   "execution_count": 29,
   "metadata": {},
   "outputs": [],
   "source": [
    "data = pd.DataFrame(dict(key = ['a', 'b', 'c'] * popularity, value=['你好吗', '我很好的', '下班吧，我觉得可以，你说呢？'] * popularity))"
   ]
  },
  {
   "cell_type": "code",
   "execution_count": 31,
   "metadata": {},
   "outputs": [
    {
     "data": {
      "text/plain": [
       "3000000"
      ]
     },
     "execution_count": 31,
     "metadata": {},
     "output_type": "execute_result"
    }
   ],
   "source": [
    "len(data)"
   ]
  },
  {
   "cell_type": "code",
   "execution_count": 4,
   "metadata": {},
   "outputs": [],
   "source": [
    "from i1984.util import nlp"
   ]
  },
  {
   "cell_type": "code",
   "execution_count": 34,
   "metadata": {},
   "outputs": [],
   "source": [
    "data['word'] = data['value'].apply(nlp.tokenize)"
   ]
  },
  {
   "cell_type": "code",
   "execution_count": 35,
   "metadata": {},
   "outputs": [
    {
     "data": {
      "text/html": [
       "<div>\n",
       "<table border=\"1\" class=\"dataframe\">\n",
       "  <thead>\n",
       "    <tr style=\"text-align: right;\">\n",
       "      <th></th>\n",
       "      <th>key</th>\n",
       "      <th>value</th>\n",
       "      <th>word</th>\n",
       "    </tr>\n",
       "  </thead>\n",
       "  <tbody>\n",
       "    <tr>\n",
       "      <th>0</th>\n",
       "      <td>a</td>\n",
       "      <td>你好吗</td>\n",
       "      <td>[你好, 吗]</td>\n",
       "    </tr>\n",
       "    <tr>\n",
       "      <th>1</th>\n",
       "      <td>b</td>\n",
       "      <td>我很好的</td>\n",
       "      <td>[我, 很, 好, 的]</td>\n",
       "    </tr>\n",
       "    <tr>\n",
       "      <th>2</th>\n",
       "      <td>c</td>\n",
       "      <td>下班吧，我觉得可以，你说呢？</td>\n",
       "      <td>[下班, 吧, 我, 觉得, 可以, 你, 说, 呢]</td>\n",
       "    </tr>\n",
       "    <tr>\n",
       "      <th>3</th>\n",
       "      <td>a</td>\n",
       "      <td>你好吗</td>\n",
       "      <td>[你好, 吗]</td>\n",
       "    </tr>\n",
       "    <tr>\n",
       "      <th>4</th>\n",
       "      <td>b</td>\n",
       "      <td>我很好的</td>\n",
       "      <td>[我, 很, 好, 的]</td>\n",
       "    </tr>\n",
       "  </tbody>\n",
       "</table>\n",
       "</div>"
      ],
      "text/plain": [
       "  key           value                         word\n",
       "0   a             你好吗                      [你好, 吗]\n",
       "1   b            我很好的                 [我, 很, 好, 的]\n",
       "2   c  下班吧，我觉得可以，你说呢？  [下班, 吧, 我, 觉得, 可以, 你, 说, 呢]\n",
       "3   a             你好吗                      [你好, 吗]\n",
       "4   b            我很好的                 [我, 很, 好, 的]"
      ]
     },
     "execution_count": 35,
     "metadata": {},
     "output_type": "execute_result"
    }
   ],
   "source": [
    "data.head()"
   ]
  },
  {
   "cell_type": "code",
   "execution_count": 17,
   "metadata": {},
   "outputs": [],
   "source": [
    "import time"
   ]
  },
  {
   "cell_type": "code",
   "execution_count": 36,
   "metadata": {},
   "outputs": [],
   "source": [
    "def item2row(df, colname):\n",
    "    begin = time.time()\n",
    "    index = []\n",
    "    data = []\n",
    "    for idx, row in df.iterrows():\n",
    "        value = row[colname]\n",
    "        index.extend([idx for _ in range(len(value))])\n",
    "        data.extend(value)\n",
    "    result = pd.DataFrame(data, index=index)\n",
    "    end = time.time()\n",
    "    print('time consuming: %s seconds' % (end-begin))\n",
    "    return result"
   ]
  },
  {
   "cell_type": "code",
   "execution_count": 37,
   "metadata": {},
   "outputs": [
    {
     "name": "stdout",
     "output_type": "stream",
     "text": [
      "time consuming: 241.55509662628174 seconds\n"
     ]
    }
   ],
   "source": [
    "word = item2row(data, 'word')"
   ]
  },
  {
   "cell_type": "code",
   "execution_count": 38,
   "metadata": {},
   "outputs": [],
   "source": [
    "result = word.merge(data[['key', 'value']], how='left', left_index=True, right_index=True)"
   ]
  },
  {
   "cell_type": "code",
   "execution_count": 39,
   "metadata": {},
   "outputs": [
    {
     "data": {
      "text/html": [
       "<div>\n",
       "<table border=\"1\" class=\"dataframe\">\n",
       "  <thead>\n",
       "    <tr style=\"text-align: right;\">\n",
       "      <th></th>\n",
       "      <th>0</th>\n",
       "      <th>key</th>\n",
       "      <th>value</th>\n",
       "    </tr>\n",
       "  </thead>\n",
       "  <tbody>\n",
       "    <tr>\n",
       "      <th>0</th>\n",
       "      <td>你好</td>\n",
       "      <td>a</td>\n",
       "      <td>你好吗</td>\n",
       "    </tr>\n",
       "    <tr>\n",
       "      <th>0</th>\n",
       "      <td>吗</td>\n",
       "      <td>a</td>\n",
       "      <td>你好吗</td>\n",
       "    </tr>\n",
       "    <tr>\n",
       "      <th>1</th>\n",
       "      <td>我</td>\n",
       "      <td>b</td>\n",
       "      <td>我很好的</td>\n",
       "    </tr>\n",
       "    <tr>\n",
       "      <th>1</th>\n",
       "      <td>很</td>\n",
       "      <td>b</td>\n",
       "      <td>我很好的</td>\n",
       "    </tr>\n",
       "    <tr>\n",
       "      <th>1</th>\n",
       "      <td>好</td>\n",
       "      <td>b</td>\n",
       "      <td>我很好的</td>\n",
       "    </tr>\n",
       "    <tr>\n",
       "      <th>1</th>\n",
       "      <td>的</td>\n",
       "      <td>b</td>\n",
       "      <td>我很好的</td>\n",
       "    </tr>\n",
       "    <tr>\n",
       "      <th>2</th>\n",
       "      <td>下班</td>\n",
       "      <td>c</td>\n",
       "      <td>下班吧，我觉得可以，你说呢？</td>\n",
       "    </tr>\n",
       "    <tr>\n",
       "      <th>2</th>\n",
       "      <td>吧</td>\n",
       "      <td>c</td>\n",
       "      <td>下班吧，我觉得可以，你说呢？</td>\n",
       "    </tr>\n",
       "    <tr>\n",
       "      <th>2</th>\n",
       "      <td>我</td>\n",
       "      <td>c</td>\n",
       "      <td>下班吧，我觉得可以，你说呢？</td>\n",
       "    </tr>\n",
       "    <tr>\n",
       "      <th>2</th>\n",
       "      <td>觉得</td>\n",
       "      <td>c</td>\n",
       "      <td>下班吧，我觉得可以，你说呢？</td>\n",
       "    </tr>\n",
       "    <tr>\n",
       "      <th>2</th>\n",
       "      <td>可以</td>\n",
       "      <td>c</td>\n",
       "      <td>下班吧，我觉得可以，你说呢？</td>\n",
       "    </tr>\n",
       "    <tr>\n",
       "      <th>2</th>\n",
       "      <td>你</td>\n",
       "      <td>c</td>\n",
       "      <td>下班吧，我觉得可以，你说呢？</td>\n",
       "    </tr>\n",
       "    <tr>\n",
       "      <th>2</th>\n",
       "      <td>说</td>\n",
       "      <td>c</td>\n",
       "      <td>下班吧，我觉得可以，你说呢？</td>\n",
       "    </tr>\n",
       "    <tr>\n",
       "      <th>2</th>\n",
       "      <td>呢</td>\n",
       "      <td>c</td>\n",
       "      <td>下班吧，我觉得可以，你说呢？</td>\n",
       "    </tr>\n",
       "    <tr>\n",
       "      <th>3</th>\n",
       "      <td>你好</td>\n",
       "      <td>a</td>\n",
       "      <td>你好吗</td>\n",
       "    </tr>\n",
       "    <tr>\n",
       "      <th>3</th>\n",
       "      <td>吗</td>\n",
       "      <td>a</td>\n",
       "      <td>你好吗</td>\n",
       "    </tr>\n",
       "    <tr>\n",
       "      <th>4</th>\n",
       "      <td>我</td>\n",
       "      <td>b</td>\n",
       "      <td>我很好的</td>\n",
       "    </tr>\n",
       "    <tr>\n",
       "      <th>4</th>\n",
       "      <td>很</td>\n",
       "      <td>b</td>\n",
       "      <td>我很好的</td>\n",
       "    </tr>\n",
       "    <tr>\n",
       "      <th>4</th>\n",
       "      <td>好</td>\n",
       "      <td>b</td>\n",
       "      <td>我很好的</td>\n",
       "    </tr>\n",
       "    <tr>\n",
       "      <th>4</th>\n",
       "      <td>的</td>\n",
       "      <td>b</td>\n",
       "      <td>我很好的</td>\n",
       "    </tr>\n",
       "    <tr>\n",
       "      <th>5</th>\n",
       "      <td>下班</td>\n",
       "      <td>c</td>\n",
       "      <td>下班吧，我觉得可以，你说呢？</td>\n",
       "    </tr>\n",
       "    <tr>\n",
       "      <th>5</th>\n",
       "      <td>吧</td>\n",
       "      <td>c</td>\n",
       "      <td>下班吧，我觉得可以，你说呢？</td>\n",
       "    </tr>\n",
       "    <tr>\n",
       "      <th>5</th>\n",
       "      <td>我</td>\n",
       "      <td>c</td>\n",
       "      <td>下班吧，我觉得可以，你说呢？</td>\n",
       "    </tr>\n",
       "    <tr>\n",
       "      <th>5</th>\n",
       "      <td>觉得</td>\n",
       "      <td>c</td>\n",
       "      <td>下班吧，我觉得可以，你说呢？</td>\n",
       "    </tr>\n",
       "    <tr>\n",
       "      <th>5</th>\n",
       "      <td>可以</td>\n",
       "      <td>c</td>\n",
       "      <td>下班吧，我觉得可以，你说呢？</td>\n",
       "    </tr>\n",
       "    <tr>\n",
       "      <th>5</th>\n",
       "      <td>你</td>\n",
       "      <td>c</td>\n",
       "      <td>下班吧，我觉得可以，你说呢？</td>\n",
       "    </tr>\n",
       "    <tr>\n",
       "      <th>5</th>\n",
       "      <td>说</td>\n",
       "      <td>c</td>\n",
       "      <td>下班吧，我觉得可以，你说呢？</td>\n",
       "    </tr>\n",
       "    <tr>\n",
       "      <th>5</th>\n",
       "      <td>呢</td>\n",
       "      <td>c</td>\n",
       "      <td>下班吧，我觉得可以，你说呢？</td>\n",
       "    </tr>\n",
       "    <tr>\n",
       "      <th>6</th>\n",
       "      <td>你好</td>\n",
       "      <td>a</td>\n",
       "      <td>你好吗</td>\n",
       "    </tr>\n",
       "    <tr>\n",
       "      <th>6</th>\n",
       "      <td>吗</td>\n",
       "      <td>a</td>\n",
       "      <td>你好吗</td>\n",
       "    </tr>\n",
       "  </tbody>\n",
       "</table>\n",
       "</div>"
      ],
      "text/plain": [
       "    0 key           value\n",
       "0  你好   a             你好吗\n",
       "0   吗   a             你好吗\n",
       "1   我   b            我很好的\n",
       "1   很   b            我很好的\n",
       "1   好   b            我很好的\n",
       "1   的   b            我很好的\n",
       "2  下班   c  下班吧，我觉得可以，你说呢？\n",
       "2   吧   c  下班吧，我觉得可以，你说呢？\n",
       "2   我   c  下班吧，我觉得可以，你说呢？\n",
       "2  觉得   c  下班吧，我觉得可以，你说呢？\n",
       "2  可以   c  下班吧，我觉得可以，你说呢？\n",
       "2   你   c  下班吧，我觉得可以，你说呢？\n",
       "2   说   c  下班吧，我觉得可以，你说呢？\n",
       "2   呢   c  下班吧，我觉得可以，你说呢？\n",
       "3  你好   a             你好吗\n",
       "3   吗   a             你好吗\n",
       "4   我   b            我很好的\n",
       "4   很   b            我很好的\n",
       "4   好   b            我很好的\n",
       "4   的   b            我很好的\n",
       "5  下班   c  下班吧，我觉得可以，你说呢？\n",
       "5   吧   c  下班吧，我觉得可以，你说呢？\n",
       "5   我   c  下班吧，我觉得可以，你说呢？\n",
       "5  觉得   c  下班吧，我觉得可以，你说呢？\n",
       "5  可以   c  下班吧，我觉得可以，你说呢？\n",
       "5   你   c  下班吧，我觉得可以，你说呢？\n",
       "5   说   c  下班吧，我觉得可以，你说呢？\n",
       "5   呢   c  下班吧，我觉得可以，你说呢？\n",
       "6  你好   a             你好吗\n",
       "6   吗   a             你好吗"
      ]
     },
     "execution_count": 39,
     "metadata": {},
     "output_type": "execute_result"
    }
   ],
   "source": [
    "result.head(30)"
   ]
  },
  {
   "cell_type": "code",
   "execution_count": 40,
   "metadata": {},
   "outputs": [
    {
     "data": {
      "text/plain": [
       "14000000"
      ]
     },
     "execution_count": 40,
     "metadata": {},
     "output_type": "execute_result"
    }
   ],
   "source": [
    "len(result)"
   ]
  },
  {
   "cell_type": "code",
   "execution_count": null,
   "metadata": {},
   "outputs": [],
   "source": []
  }
 ],
 "metadata": {
  "kernelspec": {
   "display_name": "anaconda3",
   "language": "python",
   "name": "anaconda3"
  },
  "language_info": {
   "codemirror_mode": {
    "name": "ipython",
    "version": 3
   },
   "file_extension": ".py",
   "mimetype": "text/x-python",
   "name": "python",
   "nbconvert_exporter": "python",
   "pygments_lexer": "ipython3",
   "version": "3.6.0"
  }
 },
 "nbformat": 4,
 "nbformat_minor": 2
}
